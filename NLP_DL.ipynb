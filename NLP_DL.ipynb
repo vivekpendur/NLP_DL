{
 "cells": [
  {
   "cell_type": "code",
   "execution_count": 1,
   "metadata": {},
   "outputs": [],
   "source": [
    "import numpy as np"
   ]
  },
  {
   "cell_type": "code",
   "execution_count": 2,
   "metadata": {},
   "outputs": [],
   "source": [
    "from sklearn.datasets import load_iris"
   ]
  },
  {
   "cell_type": "code",
   "execution_count": 3,
   "metadata": {},
   "outputs": [],
   "source": [
    "iris = load_iris()"
   ]
  },
  {
   "cell_type": "code",
   "execution_count": 4,
   "metadata": {},
   "outputs": [
    {
     "data": {
      "text/plain": [
       "sklearn.utils.Bunch"
      ]
     },
     "execution_count": 4,
     "metadata": {},
     "output_type": "execute_result"
    }
   ],
   "source": [
    "type(iris)"
   ]
  },
  {
   "cell_type": "code",
   "execution_count": 5,
   "metadata": {
    "scrolled": true
   },
   "outputs": [
    {
     "name": "stdout",
     "output_type": "stream",
     "text": [
      ".. _iris_dataset:\n",
      "\n",
      "Iris plants dataset\n",
      "--------------------\n",
      "\n",
      "**Data Set Characteristics:**\n",
      "\n",
      "    :Number of Instances: 150 (50 in each of three classes)\n",
      "    :Number of Attributes: 4 numeric, predictive attributes and the class\n",
      "    :Attribute Information:\n",
      "        - sepal length in cm\n",
      "        - sepal width in cm\n",
      "        - petal length in cm\n",
      "        - petal width in cm\n",
      "        - class:\n",
      "                - Iris-Setosa\n",
      "                - Iris-Versicolour\n",
      "                - Iris-Virginica\n",
      "                \n",
      "    :Summary Statistics:\n",
      "\n",
      "    ============== ==== ==== ======= ===== ====================\n",
      "                    Min  Max   Mean    SD   Class Correlation\n",
      "    ============== ==== ==== ======= ===== ====================\n",
      "    sepal length:   4.3  7.9   5.84   0.83    0.7826\n",
      "    sepal width:    2.0  4.4   3.05   0.43   -0.4194\n",
      "    petal length:   1.0  6.9   3.76   1.76    0.9490  (high!)\n",
      "    petal width:    0.1  2.5   1.20   0.76    0.9565  (high!)\n",
      "    ============== ==== ==== ======= ===== ====================\n",
      "\n",
      "    :Missing Attribute Values: None\n",
      "    :Class Distribution: 33.3% for each of 3 classes.\n",
      "    :Creator: R.A. Fisher\n",
      "    :Donor: Michael Marshall (MARSHALL%PLU@io.arc.nasa.gov)\n",
      "    :Date: July, 1988\n",
      "\n",
      "The famous Iris database, first used by Sir R.A. Fisher. The dataset is taken\n",
      "from Fisher's paper. Note that it's the same as in R, but not as in the UCI\n",
      "Machine Learning Repository, which has two wrong data points.\n",
      "\n",
      "This is perhaps the best known database to be found in the\n",
      "pattern recognition literature.  Fisher's paper is a classic in the field and\n",
      "is referenced frequently to this day.  (See Duda & Hart, for example.)  The\n",
      "data set contains 3 classes of 50 instances each, where each class refers to a\n",
      "type of iris plant.  One class is linearly separable from the other 2; the\n",
      "latter are NOT linearly separable from each other.\n",
      "\n",
      ".. topic:: References\n",
      "\n",
      "   - Fisher, R.A. \"The use of multiple measurements in taxonomic problems\"\n",
      "     Annual Eugenics, 7, Part II, 179-188 (1936); also in \"Contributions to\n",
      "     Mathematical Statistics\" (John Wiley, NY, 1950).\n",
      "   - Duda, R.O., & Hart, P.E. (1973) Pattern Classification and Scene Analysis.\n",
      "     (Q327.D83) John Wiley & Sons.  ISBN 0-471-22361-1.  See page 218.\n",
      "   - Dasarathy, B.V. (1980) \"Nosing Around the Neighborhood: A New System\n",
      "     Structure and Classification Rule for Recognition in Partially Exposed\n",
      "     Environments\".  IEEE Transactions on Pattern Analysis and Machine\n",
      "     Intelligence, Vol. PAMI-2, No. 1, 67-71.\n",
      "   - Gates, G.W. (1972) \"The Reduced Nearest Neighbor Rule\".  IEEE Transactions\n",
      "     on Information Theory, May 1972, 431-433.\n",
      "   - See also: 1988 MLC Proceedings, 54-64.  Cheeseman et al\"s AUTOCLASS II\n",
      "     conceptual clustering system finds 3 classes in the data.\n",
      "   - Many, many more ...\n"
     ]
    }
   ],
   "source": [
    "print(iris.DESCR)"
   ]
  },
  {
   "cell_type": "code",
   "execution_count": 6,
   "metadata": {},
   "outputs": [],
   "source": [
    "x=iris.data"
   ]
  },
  {
   "cell_type": "code",
   "execution_count": 7,
   "metadata": {},
   "outputs": [],
   "source": [
    "y=iris.target"
   ]
  },
  {
   "cell_type": "code",
   "execution_count": 8,
   "metadata": {},
   "outputs": [
    {
     "name": "stderr",
     "output_type": "stream",
     "text": [
      "Using TensorFlow backend.\n"
     ]
    }
   ],
   "source": [
    "from keras.utils import to_categorical"
   ]
  },
  {
   "cell_type": "code",
   "execution_count": 9,
   "metadata": {},
   "outputs": [],
   "source": [
    "y=to_categorical(y)"
   ]
  },
  {
   "cell_type": "markdown",
   "metadata": {},
   "source": [
    "Split data into training set and target set"
   ]
  },
  {
   "cell_type": "code",
   "execution_count": 10,
   "metadata": {},
   "outputs": [],
   "source": [
    "from sklearn.model_selection import train_test_split"
   ]
  },
  {
   "cell_type": "code",
   "execution_count": 11,
   "metadata": {},
   "outputs": [],
   "source": [
    "x_train, x_test, y_train, y_test = train_test_split(x, y, test_size=0.33, random_state=42)"
   ]
  },
  {
   "cell_type": "markdown",
   "metadata": {},
   "source": [
    "scale or standarised data"
   ]
  },
  {
   "cell_type": "code",
   "execution_count": 12,
   "metadata": {},
   "outputs": [],
   "source": [
    "from sklearn.preprocessing import MinMaxScaler"
   ]
  },
  {
   "cell_type": "code",
   "execution_count": 13,
   "metadata": {},
   "outputs": [],
   "source": [
    "scaler_object=MinMaxScaler()"
   ]
  },
  {
   "cell_type": "code",
   "execution_count": 14,
   "metadata": {},
   "outputs": [
    {
     "data": {
      "text/plain": [
       "MinMaxScaler()"
      ]
     },
     "execution_count": 14,
     "metadata": {},
     "output_type": "execute_result"
    }
   ],
   "source": [
    "scaler_object.fit(x_train)"
   ]
  },
  {
   "cell_type": "code",
   "execution_count": 15,
   "metadata": {},
   "outputs": [],
   "source": [
    "scaled_x_train=scaler_object.transform(x_train)"
   ]
  },
  {
   "cell_type": "code",
   "execution_count": 16,
   "metadata": {},
   "outputs": [],
   "source": [
    "scaled_x_test=scaler_object.transform(x_test)"
   ]
  },
  {
   "cell_type": "markdown",
   "metadata": {},
   "source": [
    "build a network on keras"
   ]
  },
  {
   "cell_type": "code",
   "execution_count": 17,
   "metadata": {},
   "outputs": [],
   "source": [
    "from keras.models import Sequential\n",
    "from keras.layers import Dense"
   ]
  },
  {
   "cell_type": "code",
   "execution_count": 19,
   "metadata": {},
   "outputs": [],
   "source": [
    "model=Sequential()\n",
    "model.add(Dense(8,input_dim=4,activation='relu'))\n",
    "model.add(Dense(8,input_dim=4,activation='relu'))\n",
    "model.add(Dense(3,activation='softmax'))\n",
    "\n",
    "model.compile(loss='categorical_crossentropy',optimizer='adam',metrics=['accuracy'])"
   ]
  },
  {
   "cell_type": "code",
   "execution_count": 20,
   "metadata": {},
   "outputs": [
    {
     "name": "stdout",
     "output_type": "stream",
     "text": [
      "Model: \"sequential_2\"\n",
      "_________________________________________________________________\n",
      "Layer (type)                 Output Shape              Param #   \n",
      "=================================================================\n",
      "dense_3 (Dense)              (None, 8)                 40        \n",
      "_________________________________________________________________\n",
      "dense_4 (Dense)              (None, 8)                 72        \n",
      "_________________________________________________________________\n",
      "dense_5 (Dense)              (None, 3)                 27        \n",
      "=================================================================\n",
      "Total params: 139\n",
      "Trainable params: 139\n",
      "Non-trainable params: 0\n",
      "_________________________________________________________________\n"
     ]
    }
   ],
   "source": [
    "model.summary()"
   ]
  },
  {
   "cell_type": "code",
   "execution_count": 24,
   "metadata": {
    "scrolled": true
   },
   "outputs": [
    {
     "name": "stdout",
     "output_type": "stream",
     "text": [
      "Epoch 1/150\n",
      " - 2s - loss: 1.1677 - accuracy: 0.3100\n",
      "Epoch 2/150\n",
      " - 0s - loss: 1.1513 - accuracy: 0.3100\n",
      "Epoch 3/150\n",
      " - 0s - loss: 1.1372 - accuracy: 0.3100\n",
      "Epoch 4/150\n",
      " - 0s - loss: 1.1251 - accuracy: 0.3100\n",
      "Epoch 5/150\n",
      " - 0s - loss: 1.1147 - accuracy: 0.3100\n",
      "Epoch 6/150\n",
      " - 0s - loss: 1.1045 - accuracy: 0.3100\n",
      "Epoch 7/150\n",
      " - 0s - loss: 1.0949 - accuracy: 0.3100\n",
      "Epoch 8/150\n",
      " - 0s - loss: 1.0863 - accuracy: 0.3100\n",
      "Epoch 9/150\n",
      " - 0s - loss: 1.0790 - accuracy: 0.3200\n",
      "Epoch 10/150\n",
      " - 0s - loss: 1.0710 - accuracy: 0.3700\n",
      "Epoch 11/150\n",
      " - 0s - loss: 1.0636 - accuracy: 0.4000\n",
      "Epoch 12/150\n",
      " - 0s - loss: 1.0567 - accuracy: 0.5200\n",
      "Epoch 13/150\n",
      " - 0s - loss: 1.0487 - accuracy: 0.5900\n",
      "Epoch 14/150\n",
      " - 0s - loss: 1.0419 - accuracy: 0.6100\n",
      "Epoch 15/150\n",
      " - 0s - loss: 1.0341 - accuracy: 0.6300\n",
      "Epoch 16/150\n",
      " - 0s - loss: 1.0272 - accuracy: 0.6500\n",
      "Epoch 17/150\n",
      " - 0s - loss: 1.0201 - accuracy: 0.6500\n",
      "Epoch 18/150\n",
      " - 0s - loss: 1.0146 - accuracy: 0.6500\n",
      "Epoch 19/150\n",
      " - 0s - loss: 1.0079 - accuracy: 0.6500\n",
      "Epoch 20/150\n",
      " - 0s - loss: 1.0011 - accuracy: 0.6500\n",
      "Epoch 21/150\n",
      " - 0s - loss: 0.9940 - accuracy: 0.6500\n",
      "Epoch 22/150\n",
      " - 0s - loss: 0.9877 - accuracy: 0.6500\n",
      "Epoch 23/150\n",
      " - 0s - loss: 0.9810 - accuracy: 0.6500\n",
      "Epoch 24/150\n",
      " - 0s - loss: 0.9745 - accuracy: 0.6500\n",
      "Epoch 25/150\n",
      " - 0s - loss: 0.9678 - accuracy: 0.6500\n",
      "Epoch 26/150\n",
      " - 0s - loss: 0.9603 - accuracy: 0.6500\n",
      "Epoch 27/150\n",
      " - 0s - loss: 0.9531 - accuracy: 0.6500\n",
      "Epoch 28/150\n",
      " - 0s - loss: 0.9453 - accuracy: 0.6500\n",
      "Epoch 29/150\n",
      " - 0s - loss: 0.9383 - accuracy: 0.6500\n",
      "Epoch 30/150\n",
      " - 0s - loss: 0.9311 - accuracy: 0.6500\n",
      "Epoch 31/150\n",
      " - 0s - loss: 0.9231 - accuracy: 0.6500\n",
      "Epoch 32/150\n",
      " - 0s - loss: 0.9154 - accuracy: 0.6500\n",
      "Epoch 33/150\n",
      " - 0s - loss: 0.9079 - accuracy: 0.6500\n",
      "Epoch 34/150\n",
      " - 0s - loss: 0.9008 - accuracy: 0.6500\n",
      "Epoch 35/150\n",
      " - 0s - loss: 0.8935 - accuracy: 0.6500\n",
      "Epoch 36/150\n",
      " - 0s - loss: 0.8863 - accuracy: 0.6500\n",
      "Epoch 37/150\n",
      " - 0s - loss: 0.8791 - accuracy: 0.6500\n",
      "Epoch 38/150\n",
      " - 0s - loss: 0.8715 - accuracy: 0.6500\n",
      "Epoch 39/150\n",
      " - 0s - loss: 0.8635 - accuracy: 0.6500\n",
      "Epoch 40/150\n",
      " - 0s - loss: 0.8557 - accuracy: 0.6500\n",
      "Epoch 41/150\n",
      " - 0s - loss: 0.8480 - accuracy: 0.6500\n",
      "Epoch 42/150\n",
      " - 0s - loss: 0.8408 - accuracy: 0.6500\n",
      "Epoch 43/150\n",
      " - 0s - loss: 0.8333 - accuracy: 0.6500\n",
      "Epoch 44/150\n",
      " - 0s - loss: 0.8262 - accuracy: 0.6500\n",
      "Epoch 45/150\n",
      " - 0s - loss: 0.8192 - accuracy: 0.6500\n",
      "Epoch 46/150\n",
      " - 0s - loss: 0.8123 - accuracy: 0.6500\n",
      "Epoch 47/150\n",
      " - 0s - loss: 0.8053 - accuracy: 0.6500\n",
      "Epoch 48/150\n",
      " - 0s - loss: 0.7980 - accuracy: 0.6500\n",
      "Epoch 49/150\n",
      " - 0s - loss: 0.7909 - accuracy: 0.6500\n",
      "Epoch 50/150\n",
      " - 0s - loss: 0.7839 - accuracy: 0.6500\n",
      "Epoch 51/150\n",
      " - 0s - loss: 0.7768 - accuracy: 0.6500\n",
      "Epoch 52/150\n",
      " - 0s - loss: 0.7700 - accuracy: 0.6500\n",
      "Epoch 53/150\n",
      " - 0s - loss: 0.7635 - accuracy: 0.6500\n",
      "Epoch 54/150\n",
      " - 0s - loss: 0.7570 - accuracy: 0.6500\n",
      "Epoch 55/150\n",
      " - 0s - loss: 0.7511 - accuracy: 0.6500\n",
      "Epoch 56/150\n",
      " - 0s - loss: 0.7445 - accuracy: 0.6500\n",
      "Epoch 57/150\n",
      " - 0s - loss: 0.7381 - accuracy: 0.6500\n",
      "Epoch 58/150\n",
      " - 0s - loss: 0.7317 - accuracy: 0.6500\n",
      "Epoch 59/150\n",
      " - 0s - loss: 0.7255 - accuracy: 0.6500\n",
      "Epoch 60/150\n",
      " - 0s - loss: 0.7199 - accuracy: 0.6500\n",
      "Epoch 61/150\n",
      " - 0s - loss: 0.7140 - accuracy: 0.6500\n",
      "Epoch 62/150\n",
      " - 0s - loss: 0.7082 - accuracy: 0.6500\n",
      "Epoch 63/150\n",
      " - 0s - loss: 0.7025 - accuracy: 0.6500\n",
      "Epoch 64/150\n",
      " - 0s - loss: 0.6970 - accuracy: 0.6500\n",
      "Epoch 65/150\n",
      " - 0s - loss: 0.6914 - accuracy: 0.6500\n",
      "Epoch 66/150\n",
      " - 0s - loss: 0.6863 - accuracy: 0.6500\n",
      "Epoch 67/150\n",
      " - 0s - loss: 0.6809 - accuracy: 0.6500\n",
      "Epoch 68/150\n",
      " - 0s - loss: 0.6757 - accuracy: 0.6500\n",
      "Epoch 69/150\n",
      " - 0s - loss: 0.6706 - accuracy: 0.6500\n",
      "Epoch 70/150\n",
      " - 0s - loss: 0.6658 - accuracy: 0.6500\n",
      "Epoch 71/150\n",
      " - 0s - loss: 0.6613 - accuracy: 0.6500\n",
      "Epoch 72/150\n",
      " - 0s - loss: 0.6564 - accuracy: 0.6500\n",
      "Epoch 73/150\n",
      " - 0s - loss: 0.6516 - accuracy: 0.6500\n",
      "Epoch 74/150\n",
      " - 0s - loss: 0.6467 - accuracy: 0.6500\n",
      "Epoch 75/150\n",
      " - 0s - loss: 0.6420 - accuracy: 0.6500\n",
      "Epoch 76/150\n",
      " - 0s - loss: 0.6375 - accuracy: 0.6500\n",
      "Epoch 77/150\n",
      " - 0s - loss: 0.6333 - accuracy: 0.6500\n",
      "Epoch 78/150\n",
      " - 0s - loss: 0.6287 - accuracy: 0.6500\n",
      "Epoch 79/150\n",
      " - 0s - loss: 0.6245 - accuracy: 0.6500\n",
      "Epoch 80/150\n",
      " - 0s - loss: 0.6203 - accuracy: 0.6500\n",
      "Epoch 81/150\n",
      " - 0s - loss: 0.6162 - accuracy: 0.6500\n",
      "Epoch 82/150\n",
      " - 0s - loss: 0.6122 - accuracy: 0.6500\n",
      "Epoch 83/150\n",
      " - 0s - loss: 0.6082 - accuracy: 0.6500\n",
      "Epoch 84/150\n",
      " - 0s - loss: 0.6043 - accuracy: 0.6500\n",
      "Epoch 85/150\n",
      " - 0s - loss: 0.6002 - accuracy: 0.6500\n",
      "Epoch 86/150\n",
      " - 0s - loss: 0.5964 - accuracy: 0.6500\n",
      "Epoch 87/150\n",
      " - 0s - loss: 0.5927 - accuracy: 0.6500\n",
      "Epoch 88/150\n",
      " - 0s - loss: 0.5889 - accuracy: 0.6500\n",
      "Epoch 89/150\n",
      " - 0s - loss: 0.5851 - accuracy: 0.6500\n",
      "Epoch 90/150\n",
      " - 0s - loss: 0.5813 - accuracy: 0.6700\n",
      "Epoch 91/150\n",
      " - 0s - loss: 0.5777 - accuracy: 0.6700\n",
      "Epoch 92/150\n",
      " - 0s - loss: 0.5740 - accuracy: 0.6700\n",
      "Epoch 93/150\n",
      " - 0s - loss: 0.5704 - accuracy: 0.6700\n",
      "Epoch 94/150\n",
      " - 0s - loss: 0.5670 - accuracy: 0.6700\n",
      "Epoch 95/150\n",
      " - 0s - loss: 0.5638 - accuracy: 0.6700\n",
      "Epoch 96/150\n",
      " - 0s - loss: 0.5609 - accuracy: 0.6700\n",
      "Epoch 97/150\n",
      " - 0s - loss: 0.5575 - accuracy: 0.6700\n",
      "Epoch 98/150\n",
      " - 0s - loss: 0.5539 - accuracy: 0.6700\n",
      "Epoch 99/150\n",
      " - 0s - loss: 0.5504 - accuracy: 0.6700\n",
      "Epoch 100/150\n",
      " - 0s - loss: 0.5472 - accuracy: 0.6700\n",
      "Epoch 101/150\n",
      " - 0s - loss: 0.5434 - accuracy: 0.6700\n",
      "Epoch 102/150\n",
      " - 0s - loss: 0.5397 - accuracy: 0.6700\n",
      "Epoch 103/150\n",
      " - 0s - loss: 0.5363 - accuracy: 0.6700\n",
      "Epoch 104/150\n",
      " - 0s - loss: 0.5327 - accuracy: 0.6700\n",
      "Epoch 105/150\n",
      " - 0s - loss: 0.5294 - accuracy: 0.6700\n",
      "Epoch 106/150\n",
      " - 0s - loss: 0.5256 - accuracy: 0.6900\n",
      "Epoch 107/150\n",
      " - 0s - loss: 0.5216 - accuracy: 0.7000\n",
      "Epoch 108/150\n",
      " - 0s - loss: 0.5180 - accuracy: 0.7100\n",
      "Epoch 109/150\n",
      " - 0s - loss: 0.5140 - accuracy: 0.7100\n",
      "Epoch 110/150\n",
      " - 0s - loss: 0.5104 - accuracy: 0.7100\n",
      "Epoch 111/150\n",
      " - 0s - loss: 0.5071 - accuracy: 0.7100\n",
      "Epoch 112/150\n",
      " - 0s - loss: 0.5036 - accuracy: 0.7100\n",
      "Epoch 113/150\n",
      " - 0s - loss: 0.5004 - accuracy: 0.7100\n",
      "Epoch 114/150\n",
      " - 0s - loss: 0.4976 - accuracy: 0.7100\n",
      "Epoch 115/150\n",
      " - 0s - loss: 0.4952 - accuracy: 0.7100\n",
      "Epoch 116/150\n",
      " - 0s - loss: 0.4921 - accuracy: 0.7100\n",
      "Epoch 117/150\n",
      " - 0s - loss: 0.4881 - accuracy: 0.7100\n",
      "Epoch 118/150\n",
      " - 0s - loss: 0.4835 - accuracy: 0.7500\n",
      "Epoch 119/150\n",
      " - 0s - loss: 0.4812 - accuracy: 0.7700\n",
      "Epoch 120/150\n",
      " - 0s - loss: 0.4775 - accuracy: 0.8200\n",
      "Epoch 121/150\n",
      " - 0s - loss: 0.4742 - accuracy: 0.8200\n",
      "Epoch 122/150\n",
      " - 0s - loss: 0.4698 - accuracy: 0.8200\n",
      "Epoch 123/150\n",
      " - 0s - loss: 0.4659 - accuracy: 0.8100\n",
      "Epoch 124/150\n",
      " - 0s - loss: 0.4635 - accuracy: 0.8000\n",
      "Epoch 125/150\n",
      " - 0s - loss: 0.4601 - accuracy: 0.7700\n",
      "Epoch 126/150\n",
      " - 0s - loss: 0.4563 - accuracy: 0.8100\n",
      "Epoch 127/150\n",
      " - 0s - loss: 0.4525 - accuracy: 0.8200\n",
      "Epoch 128/150\n",
      " - 0s - loss: 0.4485 - accuracy: 0.8500\n",
      "Epoch 129/150\n",
      " - 0s - loss: 0.4460 - accuracy: 0.8800\n",
      "Epoch 130/150\n",
      " - 0s - loss: 0.4429 - accuracy: 0.8900\n",
      "Epoch 131/150\n",
      " - 0s - loss: 0.4389 - accuracy: 0.9100\n",
      "Epoch 132/150\n",
      " - 0s - loss: 0.4345 - accuracy: 0.9000\n",
      "Epoch 133/150\n",
      " - 0s - loss: 0.4298 - accuracy: 0.9100\n",
      "Epoch 134/150\n",
      " - 0s - loss: 0.4297 - accuracy: 0.9400\n",
      "Epoch 135/150\n",
      " - 0s - loss: 0.4240 - accuracy: 0.9400\n",
      "Epoch 136/150\n",
      " - 0s - loss: 0.4189 - accuracy: 0.9300\n",
      "Epoch 137/150\n",
      " - 0s - loss: 0.4156 - accuracy: 0.9000\n",
      "Epoch 138/150\n",
      " - 0s - loss: 0.4139 - accuracy: 0.8900\n",
      "Epoch 139/150\n",
      " - 0s - loss: 0.4101 - accuracy: 0.8900\n",
      "Epoch 140/150\n",
      " - 0s - loss: 0.4053 - accuracy: 0.9000\n",
      "Epoch 141/150\n",
      " - 0s - loss: 0.4019 - accuracy: 0.9300\n",
      "Epoch 142/150\n",
      " - 0s - loss: 0.3996 - accuracy: 0.9500\n",
      "Epoch 143/150\n",
      " - 0s - loss: 0.3961 - accuracy: 0.9500\n",
      "Epoch 144/150\n",
      " - 0s - loss: 0.3927 - accuracy: 0.9500\n",
      "Epoch 145/150\n",
      " - 0s - loss: 0.3892 - accuracy: 0.9200\n",
      "Epoch 146/150\n",
      " - 0s - loss: 0.3871 - accuracy: 0.9000\n",
      "Epoch 147/150\n",
      " - 0s - loss: 0.3845 - accuracy: 0.8900\n",
      "Epoch 148/150\n",
      " - 0s - loss: 0.3817 - accuracy: 0.8900\n",
      "Epoch 149/150\n",
      " - 0s - loss: 0.3782 - accuracy: 0.9000\n",
      "Epoch 150/150\n",
      " - 0s - loss: 0.3742 - accuracy: 0.9300\n"
     ]
    },
    {
     "data": {
      "text/plain": [
       "<keras.callbacks.callbacks.History at 0x16b495cf3c8>"
      ]
     },
     "execution_count": 24,
     "metadata": {},
     "output_type": "execute_result"
    }
   ],
   "source": [
    "model.fit(scaled_x_train,y_train,epochs=150,verbose=2)"
   ]
  },
  {
   "cell_type": "markdown",
   "metadata": {},
   "source": [
    "predict on unseen data and evaluate model performance"
   ]
  },
  {
   "cell_type": "code",
   "execution_count": 29,
   "metadata": {},
   "outputs": [
    {
     "data": {
      "text/plain": [
       "array([1, 0, 2, 1, 1, 0, 1, 2, 2, 1, 2, 0, 0, 0, 0, 1, 2, 1, 1, 2, 0, 2,\n",
       "       0, 2, 2, 2, 2, 2, 0, 0, 0, 0, 1, 0, 0, 2, 1, 0, 0, 0, 2, 1, 1, 0,\n",
       "       0, 1, 2, 2, 1, 2], dtype=int64)"
      ]
     },
     "execution_count": 29,
     "metadata": {},
     "output_type": "execute_result"
    }
   ],
   "source": [
    "model.predict_classes(scaled_x_test)"
   ]
  },
  {
   "cell_type": "code",
   "execution_count": 30,
   "metadata": {},
   "outputs": [],
   "source": [
    "predictions=model.predict_classes(scaled_x_test)"
   ]
  },
  {
   "cell_type": "markdown",
   "metadata": {},
   "source": [
    "converts one hot encoding to normal"
   ]
  },
  {
   "cell_type": "code",
   "execution_count": 33,
   "metadata": {},
   "outputs": [
    {
     "data": {
      "text/plain": [
       "array([1, 0, 2, 1, 1, 0, 1, 2, 1, 1, 2, 0, 0, 0, 0, 1, 2, 1, 1, 2, 0, 2,\n",
       "       0, 2, 2, 2, 2, 2, 0, 0, 0, 0, 1, 0, 0, 2, 1, 0, 0, 0, 2, 1, 1, 0,\n",
       "       0, 1, 2, 2, 1, 2], dtype=int64)"
      ]
     },
     "execution_count": 33,
     "metadata": {},
     "output_type": "execute_result"
    }
   ],
   "source": [
    "y_test.argmax(axis=1)"
   ]
  },
  {
   "cell_type": "code",
   "execution_count": 34,
   "metadata": {},
   "outputs": [],
   "source": [
    "from sklearn.metrics import confusion_matrix,classification_report,accuracy_score"
   ]
  },
  {
   "cell_type": "code",
   "execution_count": 35,
   "metadata": {},
   "outputs": [
    {
     "data": {
      "text/plain": [
       "array([[19,  0,  0],\n",
       "       [ 0, 14,  1],\n",
       "       [ 0,  0, 16]], dtype=int64)"
      ]
     },
     "execution_count": 35,
     "metadata": {},
     "output_type": "execute_result"
    }
   ],
   "source": [
    "confusion_matrix(y_test.argmax(axis=1),predictions)"
   ]
  },
  {
   "cell_type": "code",
   "execution_count": 36,
   "metadata": {},
   "outputs": [
    {
     "name": "stdout",
     "output_type": "stream",
     "text": [
      "              precision    recall  f1-score   support\n",
      "\n",
      "           0       1.00      1.00      1.00        19\n",
      "           1       1.00      0.93      0.97        15\n",
      "           2       0.94      1.00      0.97        16\n",
      "\n",
      "    accuracy                           0.98        50\n",
      "   macro avg       0.98      0.98      0.98        50\n",
      "weighted avg       0.98      0.98      0.98        50\n",
      "\n"
     ]
    }
   ],
   "source": [
    "print(classification_report(y_test.argmax(axis=1),predictions))"
   ]
  },
  {
   "cell_type": "code",
   "execution_count": 37,
   "metadata": {},
   "outputs": [
    {
     "data": {
      "text/plain": [
       "0.98"
      ]
     },
     "execution_count": 37,
     "metadata": {},
     "output_type": "execute_result"
    }
   ],
   "source": [
    "accuracy_score(y_test.argmax(axis=1),predictions)"
   ]
  },
  {
   "cell_type": "code",
   "execution_count": 38,
   "metadata": {},
   "outputs": [],
   "source": [
    "model.save('NLP_DL.h5')"
   ]
  },
  {
   "cell_type": "code",
   "execution_count": null,
   "metadata": {},
   "outputs": [],
   "source": []
  }
 ],
 "metadata": {
  "kernelspec": {
   "display_name": "Python 3",
   "language": "python",
   "name": "python3"
  },
  "language_info": {
   "codemirror_mode": {
    "name": "ipython",
    "version": 3
   },
   "file_extension": ".py",
   "mimetype": "text/x-python",
   "name": "python",
   "nbconvert_exporter": "python",
   "pygments_lexer": "ipython3",
   "version": "3.7.9"
  }
 },
 "nbformat": 4,
 "nbformat_minor": 4
}
